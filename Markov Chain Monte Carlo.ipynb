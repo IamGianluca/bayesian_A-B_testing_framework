{
 "cells": [
  {
   "cell_type": "markdown",
   "metadata": {},
   "source": [
    "In a [recent article](https://github.com/IamGianluca/bayesian_methods/blob/master/Bayesian%20AB%20testing%20framework.ipynb) we introduced the opportunity to leverage the Bayes Theorem to run A/B testing. Bayesian data analysis however is not limited to it. There are infinite ways we can use such theorem to answer very complex questions, which are sometimes impossible to model using a frequentist approach. Before jumping into the many ways we can do Bayesian inference, I want you to focus on Markov Chain Monte Carlo (often seen abbreviated as MCMC).\n",
    "\n",
    "\n",
    "## What is MCMC?\n",
    "\n"
   ]
  },
  {
   "cell_type": "code",
   "execution_count": null,
   "metadata": {
    "collapsed": true
   },
   "outputs": [],
   "source": []
  }
 ],
 "metadata": {
  "kernelspec": {
   "display_name": "Python 3",
   "language": "python",
   "name": "python3"
  },
  "language_info": {
   "codemirror_mode": {
    "name": "ipython",
    "version": 3
   },
   "file_extension": ".py",
   "mimetype": "text/x-python",
   "name": "python",
   "nbconvert_exporter": "python",
   "pygments_lexer": "ipython3",
   "version": "3.4.3"
  }
 },
 "nbformat": 4,
 "nbformat_minor": 0
}
